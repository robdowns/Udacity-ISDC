{
 "cells": [
  {
   "cell_type": "markdown",
   "metadata": {},
   "source": [
    "# Traffic Light Classifier\n",
    "---\n",
    "\n",
    "In this project, you’ll use your knowledge of computer vision techniques to build a classifier for images of traffic lights! You'll be given a dataset of traffic light images in which one of three lights is illuminated: red, yellow, or green.\n",
    "\n",
    "In this notebook, you'll pre-process these images, extract features that will help us distinguish the different types of images, and use those features to classify the traffic light images into three classes: red, yellow, or green. The tasks will be broken down into a few sections:\n",
    "\n",
    "1. **Loading and visualizing the data**. \n",
    "      The first step in any classification task is to be familiar with your data; you'll need to load in the images of traffic lights and visualize them!\n",
    "\n",
    "2. **Pre-processing**. \n",
    "    The input images and output labels need to be standardized. This way, you can analyze all the input images using the same classification pipeline, and you know what output to expect when you eventually classify a *new* image.\n",
    "    \n",
    "3. **Feature extraction**. \n",
    "    Next, you'll extract some features from each image that will help distinguish and eventually classify these images.\n",
    "   \n",
    "4. **Classification and visualizing error**. \n",
    "    Finally, you'll write one function that uses your features to classify *any* traffic light image. This function will take in an image and output a label. You'll also be given code to determine the accuracy of your classification model.    \n",
    "    \n",
    "5. **Evaluate your model**.\n",
    "    To pass this project, your classifier must be >90% accurate and never classify any red lights as green; it's likely that you'll need to improve the accuracy of your classifier by changing existing features or adding new features. I'd also encourage you to try to get as close to 100% accuracy as possible!\n",
    "    \n",
    "Here are some sample images from the dataset (from left to right: red, green, and yellow traffic lights):\n",
    "<img src=\"images/all_lights.png\" width=\"50%\" height=\"50%\">\n"
   ]
  },
  {
   "cell_type": "markdown",
   "metadata": {},
   "source": [
    "---\n",
    "### *Here's what you need to know to complete the project:*\n",
    "\n",
    "Some template code has already been provided for you, but you'll need to implement additional code steps to successfully complete this project. Any code that is required to pass this project is marked with **'(IMPLEMENTATION)'** in the header. There are also a couple of questions about your thoughts as you work through this project, which are marked with **'(QUESTION)'** in the header. Make sure to answer all questions and to check your work against the [project rubric](https://review.udacity.com/#!/rubrics/1213/view) to make sure you complete the necessary classification steps!\n",
    "\n",
    "Your project submission will be evaluated based on the code implementations you provide, and on two main classification criteria.\n",
    "Your complete traffic light classifier should have:\n",
    "1. **Greater than 90% accuracy**\n",
    "2. ***Never* classify red lights as green**\n"
   ]
  },
  {
   "cell_type": "markdown",
   "metadata": {},
   "source": [
    "# 1. Loading and Visualizing the Traffic Light Dataset\n",
    "\n",
    "This traffic light dataset consists of 1484 number of color images in 3 categories - red, yellow, and green. As with most human-sourced data, the data is not evenly distributed among the types. There are:\n",
    "* 904 red traffic light images\n",
    "* 536 green traffic light images\n",
    "* 44 yellow traffic light images\n",
    "\n",
    "*Note: All images come from this [MIT self-driving car course](https://selfdrivingcars.mit.edu/) and are licensed under a [Creative Commons Attribution-ShareAlike 4.0 International License](https://creativecommons.org/licenses/by-sa/4.0/).*"
   ]
  },
  {
   "cell_type": "markdown",
   "metadata": {},
   "source": [
    "### Import resources\n",
    "\n",
    "Before you get started on the project code, import the libraries and resources that you'll need."
   ]
  },
  {
   "cell_type": "code",
   "execution_count": 1,
   "metadata": {},
   "outputs": [],
   "source": [
    "import cv2 # computer vision library\n",
    "import helpers # helper functions\n",
    "\n",
    "import random\n",
    "import numpy as np\n",
    "import matplotlib.pyplot as plt\n",
    "import matplotlib.image as mpimg # for loading in images\n",
    "\n",
    "\n",
    "%matplotlib inline"
   ]
  },
  {
   "cell_type": "markdown",
   "metadata": {},
   "source": [
    "## Training and Testing Data\n",
    "\n",
    "All 1484 of the traffic light images are separated into training and testing datasets. \n",
    "\n",
    "* 80% of these images are training images, for you to use as you create a classifier.\n",
    "* 20% are test images, which will be used to test the accuracy of your classifier.\n",
    "* All images are pictures of 3-light traffic lights with one light illuminated.\n",
    "\n",
    "## Define the image directories\n",
    "\n",
    "First, we set some variables to keep track of some where our images are stored:\n",
    "\n",
    "    IMAGE_DIR_TRAINING: the directory where our training image data is stored\n",
    "    IMAGE_DIR_TEST: the directory where our test image data is stored"
   ]
  },
  {
   "cell_type": "code",
   "execution_count": 2,
   "metadata": {},
   "outputs": [],
   "source": [
    "# Image data directories\n",
    "IMAGE_DIR_TRAINING = \"traffic_light_images/training/\"\n",
    "IMAGE_DIR_TEST = \"traffic_light_images/test/\""
   ]
  },
  {
   "cell_type": "markdown",
   "metadata": {},
   "source": [
    "## Load the datasets\n",
    "\n",
    "These first few lines of code will load the training traffic light images and store all of them in a variable, `IMAGE_LIST`. This list contains the images and their associated label (\"red\", \"yellow\", \"green\"). \n",
    "\n",
    "You are encouraged to take a look at the `load_dataset` function in the helpers.py file. This will give you a good idea about how lots of image files can be read in from a directory using the [glob library](https://pymotw.com/2/glob/). The `load_dataset` function takes in the name of an image directory and returns a list of images and their associated labels. \n",
    "\n",
    "For example, the first image-label pair in `IMAGE_LIST` can be accessed by index: \n",
    "``` IMAGE_LIST[0][:]```.\n"
   ]
  },
  {
   "cell_type": "code",
   "execution_count": 3,
   "metadata": {},
   "outputs": [],
   "source": [
    "# Using the load_dataset function in helpers.py\n",
    "# Load training data\n",
    "IMAGE_LIST = helpers.load_dataset(IMAGE_DIR_TRAINING)\n"
   ]
  },
  {
   "cell_type": "markdown",
   "metadata": {},
   "source": [
    "## Visualize the Data\n",
    "\n",
    "The first steps in analyzing any dataset are to 1. load the data and 2. look at the data. Seeing what it looks like will give you an idea of what to look for in the images, what kind of noise or inconsistencies you have to deal with, and so on. This will help you understand the image dataset, and **understanding a dataset is part of making predictions about the data**."
   ]
  },
  {
   "cell_type": "markdown",
   "metadata": {},
   "source": [
    "---\n",
    "### Visualize the input images\n",
    "\n",
    "Visualize and explore the image data! Write code to display an image in `IMAGE_LIST`:\n",
    "* Display the image\n",
    "* Print out the shape of the image \n",
    "* Print out its corresponding label\n",
    "\n",
    "See if you can display at least one of each type of traffic light image – red, green, and yellow — and look at their similarities and differences."
   ]
  },
  {
   "cell_type": "code",
   "execution_count": 4,
   "metadata": {},
   "outputs": [
    {
     "ename": "NameError",
     "evalue": "name 'STANDARDIZED_LIST' is not defined",
     "output_type": "error",
     "traceback": [
      "\u001b[0;31m---------------------------------------------------------------------------\u001b[0m",
      "\u001b[0;31mNameError\u001b[0m                                 Traceback (most recent call last)",
      "\u001b[0;32m<ipython-input-4-e1b33d008c09>\u001b[0m in \u001b[0;36m<module>\u001b[0;34m()\u001b[0m\n\u001b[1;32m      8\u001b[0m \u001b[0;31m#plt.imshow(selected_image)\u001b[0m\u001b[0;34m\u001b[0m\u001b[0;34m\u001b[0m\u001b[0m\n\u001b[1;32m      9\u001b[0m \u001b[0;34m\u001b[0m\u001b[0m\n\u001b[0;32m---> 10\u001b[0;31m \u001b[0;32mfor\u001b[0m \u001b[0mi\u001b[0m \u001b[0;32min\u001b[0m \u001b[0mrange\u001b[0m\u001b[0;34m(\u001b[0m\u001b[0mlen\u001b[0m\u001b[0;34m(\u001b[0m\u001b[0mSTANDARDIZED_LIST\u001b[0m\u001b[0;34m)\u001b[0m\u001b[0;34m)\u001b[0m\u001b[0;34m:\u001b[0m\u001b[0;34m\u001b[0m\u001b[0m\n\u001b[0m\u001b[1;32m     11\u001b[0m     \u001b[0mcolor\u001b[0m \u001b[0;34m=\u001b[0m \u001b[0mSTANDARDIZED_LIST\u001b[0m\u001b[0;34m[\u001b[0m\u001b[0mi\u001b[0m\u001b[0;34m]\u001b[0m\u001b[0;34m[\u001b[0m\u001b[0;36m1\u001b[0m\u001b[0;34m]\u001b[0m\u001b[0;34m\u001b[0m\u001b[0m\n\u001b[1;32m     12\u001b[0m     \u001b[0;32mif\u001b[0m \u001b[0;34m(\u001b[0m\u001b[0mstr\u001b[0m\u001b[0;34m(\u001b[0m\u001b[0mcolor\u001b[0m\u001b[0;34m)\u001b[0m \u001b[0;34m!=\u001b[0m \u001b[0;34m'[0, 1, 0]'\u001b[0m\u001b[0;34m)\u001b[0m\u001b[0;34m:\u001b[0m\u001b[0;34m\u001b[0m\u001b[0m\n",
      "\u001b[0;31mNameError\u001b[0m: name 'STANDARDIZED_LIST' is not defined"
     ]
    }
   ],
   "source": [
    "## TODO: Write code to display an image in IMAGE_LIST (try finding a yellow traffic light!)\n",
    "## TODO: Print out 1. The shape of the image and 2. The image's label\n",
    "\n",
    "\n",
    "# The first image in IMAGE_LIST is displayed below (without information about shape or label)\n",
    "#selected_image = IMAGE_LIST[0][0]\n",
    "#print(\"Image shape: \", selected_image.shape)\n",
    "#plt.imshow(selected_image)\n",
    "\n",
    "for i in range(len(STANDARDIZED_LIST)):\n",
    "    color = STANDARDIZED_LIST[i][1]\n",
    "    if (str(color) != '[0, 1, 0]'):\n",
    "        continue\n",
    "    else:\n",
    "        break\n",
    "\n",
    "selected_image = STANDARDIZED_LIST[i][0]\n",
    "selected_label = STANDARDIZED_LIST[i][1]\n",
    "\n",
    "print(\"Image shape: \", selected_image.shape)\n",
    "print(selected_label)\n",
    "print(str(i))\n",
    "plt.imshow(selected_image)"
   ]
  },
  {
   "cell_type": "markdown",
   "metadata": {},
   "source": [
    "# 2. Pre-process the Data\n",
    "\n",
    "After loading in each image, you have to standardize the input and output!\n",
    "\n",
    "### Input\n",
    "\n",
    "This means that every input image should be in the same format, of the same size, and so on. We'll be creating features by performing the same analysis on every picture, and for a classification task like this, it's important that **similar images create similar features**! \n",
    "\n",
    "### Output\n",
    "\n",
    "We also need the output to be a label that is easy to read and easy to compare with other labels. It is good practice to convert categorical data like \"red\" and \"green\" to numerical data.\n",
    "\n",
    "A very common classification output is a 1D list that is the length of the number of classes - three in the case of red, yellow, and green lights - with the values 0 or 1 indicating which class a certain image is. For example, since we have three classes (red, yellow, and green), we can make a list with the order: [red value, yellow value, green value]. In general, order does not matter, we choose the order [red value, yellow value, green value] in this case to reflect the position of each light in descending vertical order.\n",
    "\n",
    "A red light should have the  label: [1, 0, 0]. Yellow should be: [0, 1, 0]. Green should be: [0, 0, 1]. These labels are called **one-hot encoded labels**.\n",
    "\n",
    "*(Note: one-hot encoding will be especially important when you work with [machine learning algorithms](https://machinelearningmastery.com/how-to-one-hot-encode-sequence-data-in-python/)).*\n",
    "\n",
    "<img src=\"images/processing_steps.png\" width=\"80%\" height=\"80%\">\n"
   ]
  },
  {
   "cell_type": "markdown",
   "metadata": {},
   "source": [
    "---\n",
    "<a id='task2'></a>\n",
    "### (IMPLEMENTATION): Standardize the input images\n",
    "\n",
    "* Resize each image to the desired input size: 32x32px.\n",
    "* (Optional) You may choose to crop, shift, or rotate the images in this step as well.\n",
    "\n",
    "It's very common to have square input sizes that can be rotated (and remain the same size), and analyzed in smaller, square patches. It's also important to make all your images the same size so that they can be sent through the same pipeline of classification steps!"
   ]
  },
  {
   "cell_type": "code",
   "execution_count": 5,
   "metadata": {},
   "outputs": [],
   "source": [
    "# This function should take in an RGB image and return a new, standardized version\n",
    "def standardize_input(image):\n",
    "    \n",
    "    ## TODO: Resize image and pre-process so that all \"standard\" images are the same size\n",
    "    standard_im = np.copy(image)\n",
    "    standard_im = cv2.resize(standard_im, dsize=(32,32))\n",
    "    \n",
    "    return standard_im\n",
    "    "
   ]
  },
  {
   "cell_type": "markdown",
   "metadata": {},
   "source": [
    "## Standardize the output\n",
    "\n",
    "With each loaded image, we also specify the expected output. For this, we use **one-hot encoding**.\n",
    "\n",
    "* One-hot encode the labels. To do this, create an array of zeros representing each class of traffic light (red, yellow, green), and set the index of the expected class number to 1. \n",
    "\n",
    "Since we have three classes (red, yellow, and green), we have imposed an order of: [red value, yellow value, green value]. To one-hot encode, say, a yellow light, we would first initialize an array to [0, 0, 0] and change the middle value (the yellow value) to 1: [0, 1, 0].\n"
   ]
  },
  {
   "cell_type": "markdown",
   "metadata": {},
   "source": [
    "---\n",
    "<a id='task3'></a>\n",
    "### (IMPLEMENTATION): Implement one-hot encoding"
   ]
  },
  {
   "cell_type": "code",
   "execution_count": 6,
   "metadata": {},
   "outputs": [],
   "source": [
    "## TODO: One hot encode an image label\n",
    "## Given a label - \"red\", \"green\", or \"yellow\" - return a one-hot encoded label\n",
    "\n",
    "# Examples: \n",
    "# one_hot_encode(\"red\") should return: [1, 0, 0]\n",
    "# one_hot_encode(\"yellow\") should return: [0, 1, 0]\n",
    "# one_hot_encode(\"green\") should return: [0, 0, 1]\n",
    "\n",
    "def one_hot_encode(label):\n",
    "    \n",
    "    ## TODO: Create a one-hot encoded label that works for all classes of traffic lights\n",
    "    one_hot_encoded = [] \n",
    "    \n",
    "    if label == 'red':\n",
    "        one_hot_encoded = [1,0,0]\n",
    "    elif label == 'yellow':\n",
    "        one_hot_encoded = [0,1,0]\n",
    "    elif label == 'green':\n",
    "        one_hot_encoded = [0,0,1]\n",
    "    \n",
    "    return one_hot_encoded\n"
   ]
  },
  {
   "cell_type": "markdown",
   "metadata": {},
   "source": [
    "### Testing as you Code\n",
    "\n",
    "After programming a function like this, it's a good idea to test it, and see if it produces the expected output. **In general, it's good practice to test code in small, functional pieces, after you write it**. This way, you can make sure that your code is correct as you continue to build a classifier, and you can identify any errors early on so that they don't compound.\n",
    "\n",
    "All test code can be found in the file `test_functions.py`. You are encouraged to look through that code and add your own testing code if you find it useful!\n",
    "\n",
    "One test function you'll find is: `test_one_hot(self, one_hot_function)` which takes in one argument, a one_hot_encode function, and tests its functionality. If your one_hot_label code does not work as expected, this test will print ot an error message that will tell you a bit about why your code failed. Once your code works, this should print out TEST PASSED."
   ]
  },
  {
   "cell_type": "code",
   "execution_count": 7,
   "metadata": {},
   "outputs": [
    {
     "data": {
      "text/markdown": [
       "**<span style=\"color: green;\">TEST PASSED</span>**"
      ],
      "text/plain": [
       "<IPython.core.display.Markdown object>"
      ]
     },
     "metadata": {},
     "output_type": "display_data"
    }
   ],
   "source": [
    "# Importing the tests\n",
    "import test_functions\n",
    "tests = test_functions.Tests()\n",
    "\n",
    "# Test for one_hot_encode function\n",
    "tests.test_one_hot(one_hot_encode)\n"
   ]
  },
  {
   "cell_type": "markdown",
   "metadata": {},
   "source": [
    "## Construct a `STANDARDIZED_LIST` of input images and output labels.\n",
    "\n",
    "This function takes in a list of image-label pairs and outputs a **standardized** list of resized images and one-hot encoded labels.\n",
    "\n",
    "This uses the functions you defined above to standardize the input and output, so those functions must be complete for this standardization to work!\n"
   ]
  },
  {
   "cell_type": "code",
   "execution_count": 8,
   "metadata": {},
   "outputs": [],
   "source": [
    "def standardize(image_list):\n",
    "    \n",
    "    # Empty image data array\n",
    "    standard_list = []\n",
    "\n",
    "    # Iterate through all the image-label pairs\n",
    "    for item in image_list:\n",
    "        image = item[0]\n",
    "        label = item[1]\n",
    "\n",
    "        # Standardize the image\n",
    "        standardized_im = standardize_input(image)\n",
    "\n",
    "        # One-hot encode the label\n",
    "        one_hot_label = one_hot_encode(label)    \n",
    "\n",
    "        # Append the image, and it's one hot encoded label to the full, processed list of image data \n",
    "        standard_list.append((standardized_im, one_hot_label))\n",
    "        \n",
    "    return standard_list\n",
    "\n",
    "# Standardize all training images\n",
    "STANDARDIZED_LIST = standardize(IMAGE_LIST)"
   ]
  },
  {
   "cell_type": "markdown",
   "metadata": {},
   "source": [
    "## Visualize the standardized data\n",
    "\n",
    "Display a standardized image from STANDARDIZED_LIST and compare it with a non-standardized image from IMAGE_LIST. Note that their sizes and appearance are different!"
   ]
  },
  {
   "cell_type": "code",
   "execution_count": 9,
   "metadata": {},
   "outputs": [
    {
     "data": {
      "text/plain": [
       "<matplotlib.image.AxesImage at 0x7feaa2df1860>"
      ]
     },
     "execution_count": 9,
     "metadata": {},
     "output_type": "execute_result"
    },
    {
     "data": {
      "image/png": "[encoded data removed]",
      "text/plain": [
       "<matplotlib.figure.Figure at 0x7feaa2e5d0f0>"
      ]
     },
     "metadata": {
      "needs_background": "light"
     },
     "output_type": "display_data"
    }
   ],
   "source": [
    "## TODO: Display a standardized image and its label\n",
    "i = 4\n",
    "original_image = IMAGE_LIST[i][0]\n",
    "standardized_image = STANDARDIZED_LIST[i][0]\n",
    "#plt.imshow(original_image)\n",
    "plt.imshow(standardized_image)"
   ]
  },
  {
   "cell_type": "markdown",
   "metadata": {},
   "source": [
    "# 3. Feature Extraction\n",
    "\n",
    "You'll be using what you now about color spaces, shape analysis, and feature construction to create features that help distinguish and classify the three types of traffic light images.\n",
    "\n",
    "You'll be tasked with creating **one feature** at a minimum (with the option to create more). The required feature is **a brightness feature using HSV color space**:\n",
    "\n",
    "1. A brightness feature.\n",
    "    - Using HSV color space, create a feature that helps you identify the 3 different classes of traffic light.\n",
    "    - You'll be asked some questions about what methods you tried to locate this traffic light, so, as you progress through this notebook, always be thinking about your approach: what works and what doesn't?\n",
    "\n",
    "2. (Optional): Create more features! \n",
    "\n",
    "Any more features that you create are up to you and should improve the accuracy of your traffic light classification algorithm! One thing to note is that, to pass this project you must **never classify a red light as a green light** because this creates a serious safety risk for a self-driving car. To avoid this misclassification, you might consider adding another feature that specifically distinguishes between red and green lights.\n",
    "\n",
    "These features will be combined near the end of his notebook to form a complete classification algorithm."
   ]
  },
  {
   "cell_type": "markdown",
   "metadata": {},
   "source": [
    "## Creating a brightness feature \n",
    "\n",
    "There are a number of ways to create a brightness feature that will help you characterize images of traffic lights, and it will be up to you to decide on the best procedure to complete this step. You should visualize and test your code as you go.\n",
    "\n",
    "Pictured below is a sample pipeline for creating a brightness feature (from left to right: standardized image, HSV color-masked image, cropped image, brightness feature):\n",
    "\n",
    "<img src=\"images/feature_ext_steps.png\" width=\"70%\" height=\"70%\">\n"
   ]
  },
  {
   "cell_type": "markdown",
   "metadata": {},
   "source": [
    "## RGB to HSV conversion\n",
    "\n",
    "Below, a test image is converted from RGB to HSV colorspace and each component is displayed in an image."
   ]
  },
  {
   "cell_type": "code",
   "execution_count": 10,
   "metadata": {},
   "outputs": [
    {
     "name": "stdout",
     "output_type": "stream",
     "text": [
      "Label [red, yellow, green]: [1, 0, 0]\n"
     ]
    },
    {
     "data": {
      "text/plain": [
       "<matplotlib.image.AxesImage at 0x7fea6c668278>"
      ]
     },
     "execution_count": 10,
     "metadata": {},
     "output_type": "execute_result"
    },
    {
     "data": {
      "image/png": "[encoded data removed]",
      "text/plain": [
       "<matplotlib.figure.Figure at 0x7fea6c777d68>"
      ]
     },
     "metadata": {
      "needs_background": "light"
     },
     "output_type": "display_data"
    }
   ],
   "source": [
    "# Convert and image to HSV colorspace\n",
    "# Visualize the individual color channels\n",
    "\n",
    "image_num = 0\n",
    "test_im = STANDARDIZED_LIST[image_num][0]\n",
    "test_label = STANDARDIZED_LIST[image_num][1]\n",
    "\n",
    "# Convert to HSV\n",
    "hsv = cv2.cvtColor(test_im, cv2.COLOR_RGB2HSV)\n",
    "\n",
    "# Print image label\n",
    "print('Label [red, yellow, green]: ' + str(test_label))\n",
    "\n",
    "# HSV channels\n",
    "h = hsv[:,:,0]\n",
    "s = hsv[:,:,1]\n",
    "v = hsv[:,:,2]\n",
    "\n",
    "# Plot the original image and the three channels\n",
    "f, (ax1, ax2, ax3, ax4) = plt.subplots(1, 4, figsize=(20,10))\n",
    "ax1.set_title('Standardized image')\n",
    "ax1.imshow(test_im)\n",
    "ax2.set_title('H channel')\n",
    "ax2.imshow(h, cmap='gray')\n",
    "ax3.set_title('S channel')\n",
    "ax3.imshow(s, cmap='gray')\n",
    "ax4.set_title('V channel')\n",
    "ax4.imshow(v, cmap='gray')\n"
   ]
  },
  {
   "cell_type": "markdown",
   "metadata": {},
   "source": [
    "---\n",
    "<a id='task7'></a>\n",
    "### (IMPLEMENTATION): Create a brightness feature that uses HSV color space\n",
    "\n",
    "Write a function that takes in an RGB image and returns a 1D feature vector and/or single value that will help classify an image of a traffic light. The only requirement is that this function should apply an HSV colorspace transformation, the rest is up to you. \n",
    "\n",
    "From this feature, you should be able to estimate an image's label and classify it as either a red, green, or yellow traffic light. You may also define helper functions if they simplify your code."
   ]
  },
  {
   "cell_type": "code",
   "execution_count": 11,
   "metadata": {},
   "outputs": [],
   "source": [
    "## TODO: Create a brightness feature that takes in an RGB image and outputs a feature vector and/or value\n",
    "## This feature should use HSV colorspace values\n",
    "\n",
    "def total_brightness_vchannel(v_channel):\n",
    "    return np.sum(v_channel)"
   ]
  },
  {
   "cell_type": "code",
   "execution_count": 12,
   "metadata": {},
   "outputs": [],
   "source": [
    "#Image Cropping for improved average brightness distinction by color\n",
    "\n",
    "def crop(image, section):\n",
    "    height = image.shape[0]\n",
    "    width = image.shape[1]\n",
    "    if section == 'upper':\n",
    "        # we use // because we need ints to index the image\n",
    "        return image[6:11, 0:width]\n",
    "\n",
    "    elif section == 'middle':\n",
    "        lb = height // 3\n",
    "        ub = lb * 2\n",
    "        return image[14:19, 0:width]\n",
    "    else:\n",
    "        lb = 2 * height // 3\n",
    "        ub = height\n",
    "        return image[22:27, 0:width]"
   ]
  },
  {
   "cell_type": "code",
   "execution_count": 13,
   "metadata": {},
   "outputs": [
    {
     "name": "stdout",
     "output_type": "stream",
     "text": [
      "avg_r_brightness: 29417.0 avg_y_brightness: 28178.0 avg_g_brightness: 26856.0\n"
     ]
    }
   ],
   "source": [
    "def avg_brightness_r(rgb_image_list):\n",
    "    total = 0\n",
    "    count = 0\n",
    "    \n",
    "    for i in rgb_image_list:\n",
    "        image = i[0]\n",
    "        label = i[1]\n",
    "        \n",
    "        hsv = cv2.cvtColor(image, cv2.COLOR_RGB2HSV)\n",
    "        v_channel = hsv[:,:,2]\n",
    "        \n",
    "        if label == [1, 0, 0] or label == 'red':\n",
    "            v_channel = crop(v_channel, 'upper')\n",
    "            total = total + total_brightness_vchannel(v_channel)\n",
    "            count+=1\n",
    "    return total // count\n",
    "\n",
    "def avg_brightness_y(rgb_image_list):\n",
    "    total = 0\n",
    "    count = 0\n",
    "    \n",
    "    for i in rgb_image_list:\n",
    "        image = i[0]\n",
    "        label = i[1]\n",
    "        \n",
    "        hsv = cv2.cvtColor(image, cv2.COLOR_RGB2HSV)\n",
    "        v_channel = hsv[:,:,2]\n",
    "        \n",
    "        if label == [0, 1, 0] or label == 'yellow':\n",
    "            v_channel = crop(v_channel, 'middle')\n",
    "            total = total + total_brightness_vchannel(v_channel)\n",
    "            count+=1\n",
    "    return total // count\n",
    "\n",
    "def avg_brightness_g(rgb_image_list):\n",
    "    total = 0\n",
    "    count = 0\n",
    "    \n",
    "    for i in rgb_image_list:\n",
    "        image = i[0]\n",
    "        label = i[1]\n",
    "        \n",
    "        hsv = cv2.cvtColor(image, cv2.COLOR_RGB2HSV)\n",
    "        v_channel = hsv[:,:,2]\n",
    "        \n",
    "        if label == [0, 0, 1] or label == 'green':\n",
    "            v_channel = crop(v_channel, 'lower')\n",
    "            total = total + total_brightness_vchannel(v_channel)\n",
    "            count+=1\n",
    "    return total // count\n",
    "\n",
    "avg_r_brightness = avg_brightness_r(STANDARDIZED_LIST)\n",
    "avg_y_brightness = avg_brightness_y(STANDARDIZED_LIST)\n",
    "avg_g_brightness = avg_brightness_g(STANDARDIZED_LIST)\n",
    "\n",
    "print('avg_r_brightness:', avg_r_brightness, 'avg_y_brightness:', avg_y_brightness, 'avg_g_brightness:', avg_g_brightness)\n",
    "\n",
    "#I need to go back and crop these images to get a more robust/meaningful estimate of brightness by color to apply thresholds."
   ]
  },
  {
   "cell_type": "code",
   "execution_count": 14,
   "metadata": {},
   "outputs": [
    {
     "name": "stdout",
     "output_type": "stream",
     "text": [
      "Label: [1, 0, 0]\n",
      "Top: 16320\n",
      "Middle: 12750\n",
      "Bottom: 10965\n"
     ]
    },
    {
     "data": {
      "image/png": "[encoded data removed]",
      "text/plain": [
       "<matplotlib.figure.Figure at 0x7fea6c1ee9b0>"
      ]
     },
     "metadata": {
      "needs_background": "light"
     },
     "output_type": "display_data"
    }
   ],
   "source": [
    "#Edge detection\n",
    "#https://docs.opencv.org/3.1.0/da/d22/tutorial_py_canny.html\n",
    "idx = 400\n",
    "hsv = cv2.cvtColor(STANDARDIZED_LIST[idx][0][5:25,:], cv2.COLOR_RGB2HSV)\n",
    "v_channel = hsv[:,:,2]\n",
    "edges = cv2.Canny(STANDARDIZED_LIST[idx][0][:,5:25],32,32)\n",
    "plt.imshow(edges)\n",
    "#plt.imshow(MISCLASSIFIED[idx][0])\n",
    "print(\"Label:\", STANDARDIZED_LIST[idx][1])\n",
    "#print(\"True label:\", STANDARDIZED_LIST[idx][2])\n",
    "print(\"Top:\",np.sum(edges[0:10,:]))\n",
    "print(\"Middle:\",np.sum(edges[11:21,:]))\n",
    "print(\"Bottom:\",np.sum(edges[22:32,:]))"
   ]
  },
  {
   "cell_type": "code",
   "execution_count": 15,
   "metadata": {},
   "outputs": [],
   "source": [
    "#https://www.pyimagesearch.com/2015/04/06/zero-parameter-automatic-canny-edge-detection-with-python-and-opencv/\n",
    "def auto_canny(image, sigma=0.3):\n",
    "\t# compute the median of the single channel pixel intensities\n",
    "\tv = np.median(image)\n",
    " \n",
    "\t# apply automatic Canny edge detection using the computed median\n",
    "\tlower = int(max(0, (1.0 - sigma) * v))\n",
    "\tupper = int(min(255, (1.0 + sigma) * v))\n",
    "\tedged = cv2.Canny(image, lower, upper)\n",
    " \n",
    "\t# return the edged image\n",
    "\treturn edged"
   ]
  },
  {
   "cell_type": "code",
   "execution_count": 18,
   "metadata": {},
   "outputs": [],
   "source": [
    "def test_avg_brightness(rgb_image):\n",
    "    hsv = cv2.cvtColor(rgb_image[:,5:26], cv2.COLOR_RGB2HSV)\n",
    "    \n",
    "    avg_brightness = []\n",
    "    \n",
    "    v_channel = hsv[:,:,2]\n",
    "    \n",
    "    red = crop(v_channel,'upper')\n",
    "    yellow = crop(v_channel,'middle')\n",
    "    green = crop(v_channel,'lower')\n",
    "    \n",
    "    avg_brightness.append(np.average(red))\n",
    "    avg_brightness.append(np.average(yellow))\n",
    "    avg_brightness.append(np.average(green))\n",
    "    \n",
    "    return avg_brightness"
   ]
  },
  {
   "cell_type": "code",
   "execution_count": 17,
   "metadata": {},
   "outputs": [],
   "source": [
    "def test_avg_saturation(rgb_image):\n",
    "    hsv = cv2.cvtColor(rgb_image[:,5:26], cv2.COLOR_RGB2HSV)\n",
    "    \n",
    "    avg_saturation = []\n",
    "    \n",
    "    s_channel = hsv[:,:,1]\n",
    "    \n",
    "    red = crop(s_channel,'upper')\n",
    "    yellow = crop(s_channel,'middle')\n",
    "    green = crop(s_channel,'lower')\n",
    "    \n",
    "    avg_saturation.append(np.average(red))\n",
    "    avg_saturation.append(np.average(yellow))\n",
    "    avg_saturation.append(np.average(green))\n",
    "    \n",
    "    return avg_saturation"
   ]
  },
  {
   "cell_type": "code",
   "execution_count": 19,
   "metadata": {},
   "outputs": [],
   "source": [
    "def test_avg_hue(rgb_image):\n",
    "    hsv = cv2.cvtColor(rgb_image[:,5:26], cv2.COLOR_RGB2HSV)\n",
    "    \n",
    "    avg_hue = []\n",
    "    \n",
    "    h_channel = hsv[:,:,0]\n",
    "    \n",
    "    red = crop(h_channel,'upper')\n",
    "    yellow = crop(h_channel,'middle')\n",
    "    green = crop(h_channel,'lower')\n",
    "    \n",
    "    avg_hue.append(np.average(red))\n",
    "    avg_hue.append(np.average(yellow))\n",
    "    avg_hue.append(np.average(green))\n",
    "    \n",
    "    return avg_hue"
   ]
  },
  {
   "cell_type": "markdown",
   "metadata": {
    "collapsed": true
   },
   "source": [
    "## (Optional) Create more features to help accurately label the traffic light images"
   ]
  },
  {
   "cell_type": "code",
   "execution_count": null,
   "metadata": {
    "collapsed": true
   },
   "outputs": [],
   "source": [
    "# (Optional) Add more image analysis and create more features\n"
   ]
  },
  {
   "cell_type": "markdown",
   "metadata": {},
   "source": [
    "## (QUESTION 1): How do the features you made help you distinguish between the 3 classes of traffic light images?"
   ]
  },
  {
   "cell_type": "markdown",
   "metadata": {},
   "source": [
    "**Answer:**\n",
    "Of the features I have made and explored, I have been able to tune only average brightness to achieve over 98% accuracy, never classifying red as green, by narrowing the area over which the average for each region of the image is computed.  This feature began extremely rudimentary: I simply compared average brightness over an entire image, regardless of the class, just to see if there was a material difference in the averages.  Indeed there wasn't, due to the varying position of the lights and background noise/gradients across images.  \n",
    "\n",
    "Subsequently I noticed I could generate much more meaningful averages in terms of brightness by dividing images into top, middle, and bottom sections, since this was consistent across all traffic light images.  In theory, the segment with the lit up light would have the highest average brightness.  Accuracy for this configuration hovered around 77% as I played around with various parameters.\n",
    "\n",
    "Finally, I decided to further narrow the windows for computing the averages for each region, no longer simple thirds, but smaller areas.  I did this via trial and error by looking at a bunch of random images and then tweaking the region length/width.  This was because (1) I wanted to further eliminate contamination from the background/metal of the light and (2) based on how lights look in pictues, I knew it would likely be brighter near the centroid of the segment, if that segment was the lit up light.  In other words, narrowing the windows of each segment's average would further distinguish the correct class.\n",
    "\n",
    "Once I satisfied the two criteria, I tried to improve my accuracy by incorporating hue and saturation where brightness failed me.  I noticed from experimenting that images being misclassified had an average percentage difference in brightness of regions of 7% or less.  This meant that background noise, like fog, could be distorting the brightness.  I would need to utilize hue in that case to identify the correct light amongst the bright fog and shades of gray."
   ]
  },
  {
   "cell_type": "markdown",
   "metadata": {
    "collapsed": true
   },
   "source": [
    "# 4. Classification and Visualizing Error\n",
    "\n",
    "Using all of your features, write a function that takes in an RGB image and, using your extracted features, outputs whether a light is red, green or yellow as a one-hot encoded label. This classification function should be able to classify any image of a traffic light!\n",
    "\n",
    "You are encouraged to write any helper functions or visualization code that you may need, but for testing the accuracy, make sure that this `estimate_label` function returns a one-hot encoded label."
   ]
  },
  {
   "cell_type": "markdown",
   "metadata": {},
   "source": [
    "---\n",
    "<a id='task8'></a>\n",
    "### (IMPLEMENTATION): Build a complete classifier "
   ]
  },
  {
   "cell_type": "code",
   "execution_count": 214,
   "metadata": {},
   "outputs": [],
   "source": []
  },
  {
   "cell_type": "code",
   "execution_count": 20,
   "metadata": {},
   "outputs": [],
   "source": [
    "def estimate_label(rgb_image):\n",
    "\n",
    "    avg_brightness = test_avg_brightness(rgb_image)    \n",
    "    avg_saturation = test_avg_saturation(rgb_image)\n",
    "    avg_hue = test_avg_hue(rgb_image)\n",
    "\n",
    "    total = 0\n",
    "    count = 0\n",
    "    \n",
    "    templist = []\n",
    "    for a,b in zip(avg_brightness[::1], avg_brightness[1::1]):\n",
    "        total += 100 * (b - a) / a\n",
    "        count +=1\n",
    "#        templist.append(100 * abs(b-a))\n",
    "        \n",
    "    avg_diff = total / count\n",
    "#    if abs(avg_diff) <= 7:\n",
    "#        if avg_brightness.index(max(avg_brightness)) == avg_hue.index(max(avg_hue)):\n",
    "#            if avg_brightness.index(max(avg_brightness)) == 0:\n",
    "#                return [1,0,0]\n",
    "#            elif avg_brightness.index(max(avg_brightness)) == 1:\n",
    "#                return [0,1,0]\n",
    "#            else:\n",
    "#                return [0,0,1]\n",
    "#        elif avg_brightness.index(max(avg_brightness)) == avg_saturation.index(max(avg_saturation)):\n",
    "#            if avg_brightness.index(max(avg_brightness)) == 0:\n",
    "#                return [1,0,0]\n",
    "#            elif avg_brightness.index(max(avg_brightness)) == 1:\n",
    "#                return [0,1,0]\n",
    "#            else:\n",
    "#                return [0,0,1]\n",
    "#        else:\n",
    "#            if avg_saturation.index(max(avg_saturation)) == 0:\n",
    "#                return [1,0,0]\n",
    "#            elif avg_saturation.index(max(avg_saturation)) == 1:\n",
    "#                return [0,1,0]\n",
    "#            else:\n",
    "#                return [0,0,1]\n",
    "#    else:\n",
    "        \n",
    "    if avg_brightness.index(max(avg_brightness)) == 0:\n",
    "        return [1,0,0]\n",
    "\n",
    "    elif avg_brightness.index(max(avg_brightness)) == 1:\n",
    "        return [0,1,0]\n",
    "\n",
    "    else:\n",
    "        return [0,0,1]"
   ]
  },
  {
   "cell_type": "code",
   "execution_count": 217,
   "metadata": {},
   "outputs": [
    {
     "name": "stdout",
     "output_type": "stream",
     "text": [
      "avg_diff: -0.300977873579\n",
      "avg_brightness: [121.96190476190476, 116.77142857142857, 121.03809523809524]\n",
      "0\n",
      "avg_hue: [109.24761904761905, 109.43809523809524, 106.12380952380953]\n",
      "1\n",
      "max avg bright == max avg hue False\n",
      "avg_brightness.index(max(avg_brightness)) == 0 True\n",
      "avg_saturation: [81.180952380952377, 88.161904761904765, 100.99047619047619]\n",
      "max avg bright == max avg sat False\n",
      "2\n",
      "[1, 0, 0]\n"
     ]
    },
    {
     "data": {
      "image/png": "[encoded data removed]",
      "text/plain": [
       "<matplotlib.figure.Figure at 0x7f360878d9e8>"
      ]
     },
     "metadata": {
      "needs_background": "light"
     },
     "output_type": "display_data"
    }
   ],
   "source": [
    "idx = 1\n",
    "rgb_image = MISCLASSIFIED[idx][0]\n",
    "plt.imshow(rgb_image)\n",
    "\n",
    "avg_brightness = test_avg_brightness(rgb_image)    \n",
    "avg_saturation = test_avg_saturation(rgb_image)\n",
    "avg_hue = test_avg_hue(rgb_image)\n",
    "\n",
    "total = 0\n",
    "count = 0\n",
    "for a,b in zip(avg_brightness[::1], avg_brightness[1::1]):\n",
    "    total += 100 * (b - a) / a\n",
    "    count +=1\n",
    "\n",
    "print('avg_diff:', total / count)\n",
    "print('avg_brightness:',avg_brightness)\n",
    "print(avg_brightness.index(max(avg_brightness)))\n",
    "print('avg_hue:',avg_hue)\n",
    "print(avg_hue.index(max(avg_hue)))\n",
    "print('max avg bright == max avg hue',avg_brightness.index(max(avg_brightness)) == avg_hue.index(max(avg_hue)))\n",
    "print('avg_brightness.index(max(avg_brightness)) == 0', avg_brightness.index(max(avg_brightness)) == 0)\n",
    "print('avg_saturation:',avg_saturation)\n",
    "print('max avg bright == max avg sat',avg_brightness.index(max(avg_brightness)) == avg_saturation.index(max(avg_saturation)))\n",
    "print(avg_saturation.index(max(avg_saturation)))\n",
    "print(estimate_label(MISCLASSIFIED[idx][0]))"
   ]
  },
  {
   "cell_type": "markdown",
   "metadata": {},
   "source": [
    "## Testing the classifier\n",
    "\n",
    "Here is where we test your classification algorithm using our test set of data that we set aside at the beginning of the notebook! This project will be complete once you've pogrammed a \"good\" classifier.\n",
    "\n",
    "A \"good\" classifier in this case should meet the following criteria (and once it does, feel free to submit your project):\n",
    "1. Get above 90% classification accuracy.\n",
    "2. Never classify a red light as a green light. \n",
    "\n",
    "### Test dataset\n",
    "\n",
    "Below, we load in the test dataset, standardize it using the `standardize` function you defined above, and then **shuffle** it; this ensures that order will not play a role in testing accuracy.\n"
   ]
  },
  {
   "cell_type": "code",
   "execution_count": 218,
   "metadata": {},
   "outputs": [],
   "source": [
    "# Using the load_dataset function in helpers.py\n",
    "# Load test data\n",
    "TEST_IMAGE_LIST = helpers.load_dataset(IMAGE_DIR_TEST)\n",
    "\n",
    "# Standardize the test data\n",
    "STANDARDIZED_TEST_LIST = standardize(TEST_IMAGE_LIST)\n",
    "\n",
    "# Shuffle the standardized test data\n",
    "random.shuffle(STANDARDIZED_TEST_LIST)"
   ]
  },
  {
   "cell_type": "markdown",
   "metadata": {},
   "source": [
    "## Determine the Accuracy\n",
    "\n",
    "Compare the output of your classification algorithm (a.k.a. your \"model\") with the true labels and determine the accuracy.\n",
    "\n",
    "This code stores all the misclassified images, their predicted labels, and their true labels, in a list called `MISCLASSIFIED`. This code is used for testing and *should not be changed*."
   ]
  },
  {
   "cell_type": "code",
   "execution_count": 219,
   "metadata": {},
   "outputs": [
    {
     "name": "stdout",
     "output_type": "stream",
     "text": [
      "Accuracy: 0.9831649831649831\n",
      "Number of misclassified images = 5 out of 297\n",
      "[(array([[[110, 108, 110],\n",
      "        [107, 105, 106],\n",
      "        [105, 101, 100],\n",
      "        ..., \n",
      "        [117, 124, 131],\n",
      "        [118, 125, 133],\n",
      "        [125, 132, 140]],\n",
      "\n",
      "       [[104, 102, 106],\n",
      "        [101,  99, 102],\n",
      "        [ 99,  94,  98],\n",
      "        ..., \n",
      "        [118, 122, 133],\n",
      "        [119, 126, 132],\n",
      "        [126, 134, 139]],\n",
      "\n",
      "       [[115, 113, 118],\n",
      "        [116, 114, 119],\n",
      "        [112, 107, 113],\n",
      "        ..., \n",
      "        [126, 131, 136],\n",
      "        [127, 135, 138],\n",
      "        [132, 140, 143]],\n",
      "\n",
      "       ..., \n",
      "       [[240, 232, 229],\n",
      "        [211, 201, 199],\n",
      "        [193, 184, 179],\n",
      "        ..., \n",
      "        [144, 140, 139],\n",
      "        [145, 139, 139],\n",
      "        [145, 138, 138]],\n",
      "\n",
      "       [[ 98,  90,  88],\n",
      "        [100,  92,  89],\n",
      "        [ 97,  87,  83],\n",
      "        ..., \n",
      "        [144, 140, 139],\n",
      "        [145, 139, 141],\n",
      "        [145, 139, 141]],\n",
      "\n",
      "       [[185, 177, 175],\n",
      "        [165, 156, 153],\n",
      "        [148, 139, 134],\n",
      "        ..., \n",
      "        [144, 140, 139],\n",
      "        [145, 140, 144],\n",
      "        [146, 141, 145]]], dtype=uint8), [1, 0, 0], [0, 0, 1]), (array([[[218, 218, 226],\n",
      "        [216, 216, 225],\n",
      "        [217, 217, 229],\n",
      "        ..., \n",
      "        [139, 176, 212],\n",
      "        [141, 178, 214],\n",
      "        [141, 178, 215]],\n",
      "\n",
      "       [[215, 215, 224],\n",
      "        [216, 218, 226],\n",
      "        [215, 217, 226],\n",
      "        ..., \n",
      "        [142, 177, 213],\n",
      "        [143, 178, 215],\n",
      "        [145, 179, 216]],\n",
      "\n",
      "       [[134, 137, 146],\n",
      "        [142, 146, 155],\n",
      "        [200, 204, 214],\n",
      "        ..., \n",
      "        [147, 178, 213],\n",
      "        [147, 178, 214],\n",
      "        [147, 178, 214]],\n",
      "\n",
      "       ..., \n",
      "       [[138, 173, 210],\n",
      "        [145, 178, 214],\n",
      "        [164, 194, 228],\n",
      "        ..., \n",
      "        [147, 179, 217],\n",
      "        [144, 177, 214],\n",
      "        [143, 178, 215]],\n",
      "\n",
      "       [[148, 181, 218],\n",
      "        [154, 186, 222],\n",
      "        [151, 180, 214],\n",
      "        ..., \n",
      "        [144, 180, 216],\n",
      "        [143, 179, 215],\n",
      "        [146, 181, 218]],\n",
      "\n",
      "       [[145, 178, 213],\n",
      "        [164, 194, 228],\n",
      "        [137, 165, 198],\n",
      "        ..., \n",
      "        [143, 178, 216],\n",
      "        [144, 178, 216],\n",
      "        [144, 179, 217]]], dtype=uint8), [1, 0, 0], [0, 0, 1]), (array([[[234, 234, 234],\n",
      "        [235, 233, 234],\n",
      "        [235, 233, 234],\n",
      "        ..., \n",
      "        [235, 233, 234],\n",
      "        [235, 233, 234],\n",
      "        [235, 233, 234]],\n",
      "\n",
      "       [[235, 233, 234],\n",
      "        [235, 233, 234],\n",
      "        [235, 233, 234],\n",
      "        ..., \n",
      "        [235, 233, 234],\n",
      "        [235, 233, 234],\n",
      "        [235, 233, 234]],\n",
      "\n",
      "       [[235, 233, 234],\n",
      "        [235, 233, 234],\n",
      "        [235, 233, 234],\n",
      "        ..., \n",
      "        [235, 233, 234],\n",
      "        [235, 233, 234],\n",
      "        [235, 233, 234]],\n",
      "\n",
      "       ..., \n",
      "       [[216, 226, 235],\n",
      "        [175, 182, 192],\n",
      "        [136, 139, 149],\n",
      "        ..., \n",
      "        [224, 228, 238],\n",
      "        [222, 226, 235],\n",
      "        [222, 226, 235]],\n",
      "\n",
      "       [[205, 212, 222],\n",
      "        [141, 145, 156],\n",
      "        [140, 141, 153],\n",
      "        ..., \n",
      "        [225, 228, 238],\n",
      "        [222, 226, 235],\n",
      "        [223, 227, 236]],\n",
      "\n",
      "       [[200, 200, 212],\n",
      "        [141, 140, 152],\n",
      "        [146, 142, 156],\n",
      "        ..., \n",
      "        [222, 225, 234],\n",
      "        [223, 226, 235],\n",
      "        [221, 225, 234]]], dtype=uint8), [1, 0, 0], [0, 0, 1]), (array([[[234, 232, 233],\n",
      "        [235, 233, 234],\n",
      "        [235, 233, 234],\n",
      "        ..., \n",
      "        [235, 233, 234],\n",
      "        [235, 233, 234],\n",
      "        [234, 233, 233]],\n",
      "\n",
      "       [[235, 233, 234],\n",
      "        [235, 233, 234],\n",
      "        [235, 233, 234],\n",
      "        ..., \n",
      "        [221, 219, 220],\n",
      "        [220, 219, 220],\n",
      "        [220, 218, 219]],\n",
      "\n",
      "       [[235, 233, 234],\n",
      "        [235, 233, 234],\n",
      "        [235, 233, 234],\n",
      "        ..., \n",
      "        [231, 229, 230],\n",
      "        [231, 229, 230],\n",
      "        [232, 230, 231]],\n",
      "\n",
      "       ..., \n",
      "       [[234, 236, 235],\n",
      "        [231, 233, 232],\n",
      "        [230, 232, 231],\n",
      "        ..., \n",
      "        [235, 233, 234],\n",
      "        [235, 233, 234],\n",
      "        [235, 233, 234]],\n",
      "\n",
      "       [[234, 234, 234],\n",
      "        [234, 234, 234],\n",
      "        [234, 234, 234],\n",
      "        ..., \n",
      "        [235, 233, 234],\n",
      "        [235, 233, 234],\n",
      "        [235, 233, 234]],\n",
      "\n",
      "       [[236, 233, 234],\n",
      "        [237, 234, 235],\n",
      "        [237, 234, 235],\n",
      "        ..., \n",
      "        [234, 232, 233],\n",
      "        [235, 233, 234],\n",
      "        [235, 233, 234]]], dtype=uint8), [1, 0, 0], [0, 0, 1]), (array([[[234, 234, 234],\n",
      "        [234, 234, 234],\n",
      "        [234, 234, 234],\n",
      "        ..., \n",
      "        [235, 233, 234],\n",
      "        [235, 233, 234],\n",
      "        [235, 233, 234]],\n",
      "\n",
      "       [[235, 233, 234],\n",
      "        [235, 233, 234],\n",
      "        [235, 233, 234],\n",
      "        ..., \n",
      "        [235, 233, 234],\n",
      "        [235, 233, 234],\n",
      "        [235, 233, 234]],\n",
      "\n",
      "       [[235, 233, 234],\n",
      "        [235, 233, 234],\n",
      "        [235, 233, 234],\n",
      "        ..., \n",
      "        [235, 233, 234],\n",
      "        [235, 233, 234],\n",
      "        [235, 233, 234]],\n",
      "\n",
      "       ..., \n",
      "       [[236, 234, 235],\n",
      "        [236, 234, 235],\n",
      "        [236, 234, 234],\n",
      "        ..., \n",
      "        [237, 232, 237],\n",
      "        [237, 233, 237],\n",
      "        [234, 232, 235]],\n",
      "\n",
      "       [[234, 234, 234],\n",
      "        [234, 233, 234],\n",
      "        [235, 233, 234],\n",
      "        ..., \n",
      "        [236, 231, 236],\n",
      "        [235, 232, 235],\n",
      "        [234, 232, 235]],\n",
      "\n",
      "       [[235, 233, 234],\n",
      "        [235, 233, 234],\n",
      "        [235, 233, 234],\n",
      "        ..., \n",
      "        [234, 232, 235],\n",
      "        [234, 232, 235],\n",
      "        [234, 232, 235]]], dtype=uint8), [1, 0, 0], [0, 0, 1])]\n"
     ]
    }
   ],
   "source": [
    "# Constructs a list of misclassified images given a list of test images and their labels\n",
    "# This will throw an AssertionError if labels are not standardized (one-hot encoded)\n",
    "\n",
    "def get_misclassified_images(test_images):\n",
    "    # Track misclassified images by placing them into a list\n",
    "    misclassified_images_labels = []\n",
    "\n",
    "    # Iterate through all the test images\n",
    "    # Classify each image and compare to the true label\n",
    "    for image in test_images:\n",
    "\n",
    "        # Get true data\n",
    "        im = image[0]\n",
    "        true_label = image[1]\n",
    "        assert(len(true_label) == 3), \"The true_label is not the expected length (3).\"\n",
    "\n",
    "        # Get predicted label from your classifier\n",
    "        predicted_label = estimate_label(im)\n",
    "        assert(len(predicted_label) == 3), \"The predicted_label is not the expected length (3).\"\n",
    "\n",
    "        # Compare true and predicted labels \n",
    "        if(predicted_label != true_label):\n",
    "            # If these labels are not equal, the image has been misclassified\n",
    "            misclassified_images_labels.append((im, predicted_label, true_label))\n",
    "            \n",
    "    # Return the list of misclassified [image, predicted_label, true_label] values\n",
    "    return misclassified_images_labels\n",
    "\n",
    "\n",
    "# Find all misclassified images in a given test set\n",
    "MISCLASSIFIED = get_misclassified_images(STANDARDIZED_TEST_LIST)\n",
    "\n",
    "# Accuracy calculations\n",
    "total = len(STANDARDIZED_TEST_LIST)\n",
    "num_correct = total - len(MISCLASSIFIED)\n",
    "accuracy = num_correct/total\n",
    "\n",
    "print('Accuracy: ' + str(accuracy))\n",
    "print(\"Number of misclassified images = \" + str(len(MISCLASSIFIED)) +' out of '+ str(total))\n",
    "print(MISCLASSIFIED)\n"
   ]
  },
  {
   "cell_type": "markdown",
   "metadata": {},
   "source": [
    "---\n",
    "<a id='task9'></a>\n",
    "### Visualize the misclassified images\n",
    "\n",
    "Visualize some of the images you classified wrong (in the `MISCLASSIFIED` list) and note any qualities that make them difficult to classify. This will help you identify any weaknesses in your classification algorithm."
   ]
  },
  {
   "cell_type": "code",
   "execution_count": 220,
   "metadata": {},
   "outputs": [
    {
     "ename": "IndexError",
     "evalue": "list index out of range",
     "output_type": "error",
     "traceback": [
      "\u001b[0;31m---------------------------------------------------------------------------\u001b[0m",
      "\u001b[0;31mIndexError\u001b[0m                                Traceback (most recent call last)",
      "\u001b[0;32m<ipython-input-220-16c58c6193b1>\u001b[0m in \u001b[0;36m<module>\u001b[0;34m()\u001b[0m\n\u001b[1;32m      9\u001b[0m \u001b[0;31m#plt.imshow(edges)\u001b[0m\u001b[0;34m\u001b[0m\u001b[0;34m\u001b[0m\u001b[0m\n\u001b[1;32m     10\u001b[0m \u001b[0;31m#plt.imshow(MISCLASSIFIED[idx][0])\u001b[0m\u001b[0;34m\u001b[0m\u001b[0;34m\u001b[0m\u001b[0m\n\u001b[0;32m---> 11\u001b[0;31m \u001b[0mhsv\u001b[0m \u001b[0;34m=\u001b[0m \u001b[0mcv2\u001b[0m\u001b[0;34m.\u001b[0m\u001b[0mcvtColor\u001b[0m\u001b[0;34m(\u001b[0m\u001b[0mMISCLASSIFIED\u001b[0m\u001b[0;34m[\u001b[0m\u001b[0midx\u001b[0m\u001b[0;34m]\u001b[0m\u001b[0;34m[\u001b[0m\u001b[0;36m0\u001b[0m\u001b[0;34m]\u001b[0m\u001b[0;34m[\u001b[0m\u001b[0;34m:\u001b[0m\u001b[0;34m,\u001b[0m\u001b[0;36m5\u001b[0m\u001b[0;34m:\u001b[0m\u001b[0;36m27\u001b[0m\u001b[0;34m]\u001b[0m\u001b[0;34m,\u001b[0m \u001b[0mcv2\u001b[0m\u001b[0;34m.\u001b[0m\u001b[0mCOLOR_RGB2HSV\u001b[0m\u001b[0;34m)\u001b[0m\u001b[0;34m\u001b[0m\u001b[0m\n\u001b[0m\u001b[1;32m     12\u001b[0m \u001b[0mv_channel\u001b[0m \u001b[0;34m=\u001b[0m \u001b[0mhsv\u001b[0m\u001b[0;34m[\u001b[0m\u001b[0;34m:\u001b[0m\u001b[0;34m,\u001b[0m\u001b[0;34m:\u001b[0m\u001b[0;34m,\u001b[0m\u001b[0;36m0\u001b[0m\u001b[0;34m]\u001b[0m\u001b[0;34m\u001b[0m\u001b[0m\n\u001b[1;32m     13\u001b[0m \u001b[0medges\u001b[0m \u001b[0;34m=\u001b[0m \u001b[0mauto_canny\u001b[0m\u001b[0;34m(\u001b[0m\u001b[0mv_channel\u001b[0m\u001b[0;34m)\u001b[0m\u001b[0;34m\u001b[0m\u001b[0m\n",
      "\u001b[0;31mIndexError\u001b[0m: list index out of range"
     ]
    }
   ],
   "source": [
    "# Visualize misclassified example(s)\n",
    "## TODO: Display an image in the `MISCLASSIFIED` list \n",
    "## TODO: Print out its predicted label - to see what the image *was* incorrectly classified as\n",
    "idx = 7\n",
    "#hsv = cv2.cvtColor(MISCLASSIFIED[idx][0][:,5:25], cv2.COLOR_RGB2HSV)\n",
    "#v_channel = hsv[:,:,2]\n",
    "#https://docs.opencv.org/3.1.0/da/d22/tutorial_py_canny.html\n",
    "#edges = auto_canny(v_channel)\n",
    "#plt.imshow(edges)\n",
    "#plt.imshow(MISCLASSIFIED[idx][0])\n",
    "hsv = cv2.cvtColor(MISCLASSIFIED[idx][0][:,5:27], cv2.COLOR_RGB2HSV)\n",
    "v_channel = hsv[:,:,0]\n",
    "edges = auto_canny(v_channel)\n",
    "    \n",
    "section_upper_edges = crop(MISCLASSIFIED[idx][0][:,5:27], 'upper')\n",
    "section_middle_edges = crop(MISCLASSIFIED[idx][0][:,5:27], 'middle')\n",
    "section_lower_edges = crop(MISCLASSIFIED[idx][0][:,5:27], 'lower')\n",
    "print('Avg Brightness:',test_avg_brightness(MISCLASSIFIED[idx][0]))\n",
    "print(np.std(test_avg_brightness(MISCLASSIFIED[idx][0])))\n",
    "print('Avg Hue:',test_avg_brightness(MISCLASSIFIED[idx][0]))\n",
    "print('Avg Saturation:', test_avg_saturation(MISCLASSIFIED[idx][0]))\n",
    "#print(test_avg_brightness(section_upper_edges))\n",
    "#print(test_avg_brightness(section_middle_edges))\n",
    "#print(test_avg_brightness(section_lower_edges))\n",
    "\n",
    "#image = cv2.cvtColor(MISCLASSIFIED[idx][0][:,5:25], cv2.COLOR_BGR2GRAY)\n",
    "#image = cv2.GaussianBlur(image, (21,21), cv2.BORDER_DEFAULT)\n",
    "#plt.imshow(image)\n",
    "\n",
    "#circs = cv2.HoughCircles(image, cv2.HOUGH_GRADIENT, 1, 20, param1 = 50, param2 = 30, minRadius = 1, maxRadius = 32)\n",
    "#print(circs)\n",
    "\n",
    "f = plt.figure()\n",
    "f.add_subplot(1,2, 1)\n",
    "plt.imshow(v_channel)\n",
    "f.add_subplot(1,2, 2)\n",
    "plt.imshow(MISCLASSIFIED[idx][0][:,5:27])\n",
    "plt.show(block=True)\n",
    "print(\"Predicted label:\", MISCLASSIFIED[idx][1])\n",
    "print(\"True label:\", MISCLASSIFIED[idx][2])\n",
    "print(\"Top:\",np.sum(edges[0:10,:]))\n",
    "print(\"Middle:\",np.sum(edges[11:21,:]))\n",
    "print(\"Bottom:\",np.sum(edges[22:32,:]))\n",
    "\n",
    "\n"
   ]
  },
  {
   "cell_type": "code",
   "execution_count": 221,
   "metadata": {},
   "outputs": [
    {
     "name": "stdout",
     "output_type": "stream",
     "text": [
      "[2295, 3315, 8415] predicted: [1, 0, 0] actual: [0, 0, 1]\n",
      "[1020, 0, 0] predicted: [1, 0, 0] actual: [0, 0, 1]\n",
      "[0, 0, 1020] predicted: [1, 0, 0] actual: [0, 0, 1]\n",
      "[0, 1275, 5610] predicted: [1, 0, 0] actual: [0, 0, 1]\n",
      "[0, 0, 8160] predicted: [1, 0, 0] actual: [0, 0, 1]\n"
     ]
    }
   ],
   "source": [
    "edges_list = []\n",
    "for image in range(len(MISCLASSIFIED)):\n",
    "    hsv = cv2.cvtColor(MISCLASSIFIED[image][0][:,5:25], cv2.COLOR_RGB2HSV)\n",
    "    v_channel = hsv[:,:,2]\n",
    "    edges = auto_canny(v_channel)\n",
    "    \n",
    "    section_upper_edges = crop(edges, 'upper')\n",
    "    section_middle_edges = crop(edges, 'middle')\n",
    "    section_lower_edges = crop(edges, 'lower')\n",
    "    \n",
    "    edges_sublist = []\n",
    "    edges_sublist.append(np.sum(section_upper_edges))\n",
    "    edges_sublist.append(np.sum(section_middle_edges))\n",
    "    edges_sublist.append(np.sum(section_lower_edges))\n",
    "    edges_list.append(edges_sublist)\n",
    "    print(edges_sublist, 'predicted:',MISCLASSIFIED[image][1], 'actual:',MISCLASSIFIED[image][2])"
   ]
  },
  {
   "cell_type": "code",
   "execution_count": 222,
   "metadata": {
    "scrolled": true
   },
   "outputs": [
    {
     "name": "stdout",
     "output_type": "stream",
     "text": [
      "avg_diff: -0.90489063556\n",
      "avg_brightness: [105.53333333333333, 91.114285714285714, 101.91428571428571]\n",
      "avg_saturation: [28.504761904761907, 20.504761904761907, 52.771428571428572]\n",
      "avg_hue: [111.16190476190476, 15.952380952380953, 87.838095238095235]\n",
      "predicted: [1, 0, 0] actual: [0, 0, 1]\n",
      "avg_diff: -0.300977873579\n",
      "avg_brightness: [121.96190476190476, 116.77142857142857, 121.03809523809524]\n",
      "avg_saturation: [81.180952380952377, 88.161904761904765, 100.99047619047619]\n",
      "avg_hue: [109.24761904761905, 109.43809523809524, 106.12380952380953]\n",
      "predicted: [1, 0, 0] actual: [0, 0, 1]\n",
      "avg_diff: -5.36014892909\n",
      "avg_brightness: [221.73333333333332, 199.78095238095239, 198.14285714285714]\n",
      "avg_saturation: [6.8571428571428568, 12.266666666666667, 48.352380952380955]\n",
      "avg_hue: [148.0952380952381, 125.66666666666667, 104.86666666666666]\n",
      "predicted: [1, 0, 0] actual: [0, 0, 1]\n",
      "avg_diff: -0.80970170044\n",
      "avg_brightness: [207.66666666666666, 196.2095238095238, 203.85714285714286]\n",
      "avg_saturation: [4.4857142857142858, 6.8571428571428568, 24.028571428571428]\n",
      "avg_hue: [136.39047619047619, 157.64761904761906, 88.342857142857142]\n",
      "predicted: [1, 0, 0] actual: [0, 0, 1]\n",
      "avg_diff: -5.3506736643\n",
      "avg_brightness: [225.1904761904762, 209.44761904761904, 201.67619047619047]\n",
      "avg_saturation: [8.0761904761904759, 7.9523809523809526, 14.380952380952381]\n",
      "avg_hue: [71.13333333333334, 34.628571428571426, 94.876190476190473]\n",
      "predicted: [1, 0, 0] actual: [0, 0, 1]\n"
     ]
    }
   ],
   "source": [
    "avg_brightness_list = []\n",
    "for image in range(len(MISCLASSIFIED)): \n",
    "    avg_brightness = test_avg_brightness(MISCLASSIFIED[image][0])\n",
    "    avg_saturation = test_avg_saturation(MISCLASSIFIED[image][0])\n",
    "    avg_hue = test_avg_hue(MISCLASSIFIED[image][0])\n",
    "    total = 0\n",
    "    count = 0\n",
    "    for a,b in zip(avg_brightness[::1], avg_brightness[1::1]):\n",
    "        total += 100 * (b - a) / a\n",
    "        count +=1\n",
    "    print('avg_diff:',total / count)\n",
    "    print('avg_brightness:',avg_brightness)\n",
    "    print('avg_saturation:',avg_saturation) \n",
    "    print('avg_hue:',avg_hue)     \n",
    "    print('predicted:',MISCLASSIFIED[image][1], 'actual:',MISCLASSIFIED[image][2])\n",
    " "
   ]
  },
  {
   "cell_type": "code",
   "execution_count": 53,
   "metadata": {},
   "outputs": [
    {
     "name": "stdout",
     "output_type": "stream",
     "text": [
      "avg_r_brightness: 57831.0 avg_y_brightness: 58369.0 avg_g_brightness: 57232.0\n"
     ]
    }
   ],
   "source": []
  },
  {
   "cell_type": "markdown",
   "metadata": {},
   "source": [
    "---\n",
    "<a id='question2'></a>\n",
    "## (Question 2): After visualizing these misclassifications, what weaknesses do you think your classification algorithm has? Please note at least two."
   ]
  },
  {
   "cell_type": "markdown",
   "metadata": {},
   "source": [
    "**Answer:**\n",
    "As previously stated, one weakness of my classifier is its ability to accomodate fog.  I tried to incorporate hue when there is an average difference in brightness between regions of 7% or less, but the logic wasn't working.\n",
    "\n",
    "Another weakness of my algorithm is its ability to robustly accomodate background color and noise.  This becomes problematic when the image of the traffic light is not face-on but at an angle, so more sky is showing and upping the brightness.  I think incorporating hue and saturation by finding logical consistencies in the misclassified images could be one workaround.  Another workaround for these angular images would be using edge detection and then evaluating hue/brightness within the identified edges."
   ]
  },
  {
   "cell_type": "markdown",
   "metadata": {},
   "source": [
    "## Test if you classify any red lights as green\n",
    "\n",
    "**To pass this project, you must not classify any red lights as green!** Classifying red lights as green would cause a car to drive through a red traffic light, so this red-as-green error is very dangerous in the real world. \n",
    "\n",
    "The code below lets you test to see if you've misclassified any red lights as green in the test set. **This test assumes that `MISCLASSIFIED` is a list of tuples with the order: [misclassified_image, predicted_label, true_label].**\n",
    "\n",
    "Note: this is not an all encompassing test, but its a good indicator that, if you pass, you are on the right track! This iterates through your list of misclassified examples and checks to see if any red traffic lights have been mistakenly labelled [0, 1, 0] (green)."
   ]
  },
  {
   "cell_type": "code",
   "execution_count": 223,
   "metadata": {},
   "outputs": [
    {
     "data": {
      "text/markdown": [
       "**<span style=\"color: green;\">TEST PASSED</span>**"
      ],
      "text/plain": [
       "<IPython.core.display.Markdown object>"
      ]
     },
     "metadata": {},
     "output_type": "display_data"
    }
   ],
   "source": [
    "# Importing the tests\n",
    "import test_functions\n",
    "tests = test_functions.Tests()\n",
    "\n",
    "if(len(MISCLASSIFIED) > 0):\n",
    "    # Test code for one_hot_encode function\n",
    "    tests.test_red_as_green(MISCLASSIFIED)\n",
    "else:\n",
    "    print(\"MISCLASSIFIED may not have been populated with images.\")\n"
   ]
  },
  {
   "cell_type": "markdown",
   "metadata": {},
   "source": [
    "# 5. Improve your algorithm!\n",
    "\n",
    "**Submit your project after you have completed all implementations, answered all questions, AND when you've met the two criteria:**\n",
    "1. Greater than 90% accuracy classification\n",
    "2. No red lights classified as green\n",
    "\n",
    "If you did not meet these requirements (which is common on the first attempt!), revisit your algorithm and tweak it to improve light recognition -- this could mean changing the brightness feature, performing some background subtraction, or adding another feature!\n",
    "\n",
    "---"
   ]
  },
  {
   "cell_type": "markdown",
   "metadata": {
    "collapsed": true
   },
   "source": [
    "### Going Further (Optional Challenges)\n",
    "\n",
    "If you found this challenge easy, I suggest you go above and beyond! Here are a couple **optional** (meaning you do not need to implement these to submit and pass the project) suggestions:\n",
    "* (Optional) Aim for >95% classification accuracy.\n",
    "* (Optional) Some lights are in the shape of arrows; further classify the lights as round or arrow-shaped.\n",
    "* (Optional) Add another feature and aim for as close to 100% accuracy as you can get!"
   ]
  },
  {
   "cell_type": "code",
   "execution_count": null,
   "metadata": {
    "collapsed": true
   },
   "outputs": [],
   "source": []
  }
 ],
 "metadata": {
  "anaconda-cloud": {},
  "kernelspec": {
   "display_name": "Python 3",
   "language": "python",
   "name": "python3"
  },
  "language_info": {
   "codemirror_mode": {
    "name": "ipython",
    "version": 3
   },
   "file_extension": ".py",
   "mimetype": "text/x-python",
   "name": "python",
   "nbconvert_exporter": "python",
   "pygments_lexer": "ipython3",
   "version": "3.6.3"
  }
 },
 "nbformat": 4,
 "nbformat_minor": 2
}
